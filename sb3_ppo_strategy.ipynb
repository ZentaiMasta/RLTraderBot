{
 "cells": [
  {
   "cell_type": "code",
   "execution_count": 16,
   "metadata": {},
   "outputs": [],
   "source": [
    "import numpy as np\n",
    "import pandas as pd\n",
    "\n",
    "from config import ALPACA_CONFIG\n",
    "from datetime import datetime, timedelta\n",
    "\n",
    "from lumibot.brokers import Alpaca\n",
    "from lumibot.traders import Trader\n",
    "from lumibot.strategies import Strategy\n",
    "from lumibot.backtesting import YahooDataBacktesting\n",
    "\n",
    "from gymnasium.spaces import Box\n",
    "\n",
    "from stable_baselines3 import PPO\n"
   ]
  },
  {
   "cell_type": "markdown",
   "metadata": {},
   "source": [
    "Build Strategy with Bot"
   ]
  },
  {
   "cell_type": "code",
   "execution_count": 17,
   "metadata": {},
   "outputs": [],
   "source": [
    "class PPO_Strategy(Strategy):\n",
    "    def initialize(self, short_window, long_window, signal_window):\n",
    "        self.sleeptime = '1h'\n",
    "        self.symbol = self.parameters['symbol']\n",
    "        self.quantity = 10\n",
    "        self.data_length = 50\n",
    "        self.timestep = self.parameters.get('timestep', 'hour')\n",
    "        self.model = PPO.load(self.parameters['ppo_model.zip'])\n",
    "     \n",
    "    def on_trading_iteration(self):\n",
    "        # Fetch data\n",
    "        bars = self.get_historical_prices(\n",
    "            self.symbol, \n",
    "            length= self.data_length,  # Get 50 previous bars\n",
    "            timestep=self.timestep\n",
    "        )\n",
    "        \n",
    "        # Define observation space\n",
    "        low = np.full((self.data_length,), -np.inf)  # Minimum values for each element in the observation\n",
    "        high = np.full((self.data_length,), np.inf)  # Maximum values for each element in the observation\n",
    "        observation_space = Box(low=low, high=high, dtype=np.float32)\n",
    "        \n",
    "        # Use model to trade\n",
    "        action, _states = self.model.predict(bars, deterministic=True)\n",
    "        \n",
    "        # Execute trade\n",
    "        if action == 1:\n",
    "            self.buy(self.symbol, self.quantity)\n",
    "        elif action == 0:\n",
    "            self.sell(self.symbol, self.quantity)\n",
    "        else:\n",
    "            pass\n",
    "        \n",
    "        \n",
    "        "
   ]
  },
  {
   "cell_type": "markdown",
   "metadata": {},
   "source": [
    "Backtest"
   ]
  },
  {
   "cell_type": "code",
   "execution_count": 18,
   "metadata": {},
   "outputs": [
    {
     "name": "stderr",
     "output_type": "stream",
     "text": [
      "2025-01-03 17:41:43 | asyncio | INFO | Starting backtest...\n",
      "2025-01-03 17:41:43 | lumibot.traders.trader | INFO | Backtesting starting...\n",
      "Exception in thread PPO_Strategy:\n",
      "Traceback (most recent call last):\n",
      "  File \"C:\\Users\\patri\\AppData\\Local\\Programs\\Python\\Python312\\Lib\\threading.py\", line 1075, in _bootstrap_inner\n",
      "    self.run()\n",
      "  File \"c:\\Users\\patri\\Desktop\\Alpaca\\.venv\\Lib\\site-packages\\lumibot\\strategies\\strategy_executor.py\", line 1040, in run\n",
      "    self._initialize()\n",
      "  File \"c:\\Users\\patri\\Desktop\\Alpaca\\.venv\\Lib\\site-packages\\lumibot\\strategies\\strategy_executor.py\", line 305, in func_output\n",
      "    result = func_input(self, *args, **kwargs)\n",
      "             ^^^^^^^^^^^^^^^^^^^^^^^^^^^^^^^^^\n",
      "  File \"c:\\Users\\patri\\Desktop\\Alpaca\\.venv\\Lib\\site-packages\\lumibot\\strategies\\strategy_executor.py\", line 375, in _initialize\n",
      "    self.strategy.initialize(**safe_params_to_pass)\n",
      "TypeError: PPO_Strategy.initialize() missing 3 required positional arguments: 'short_window', 'long_window', and 'signal_window'\n"
     ]
    },
    {
     "data": {
      "text/plain": [
       "{}"
      ]
     },
     "execution_count": 18,
     "metadata": {},
     "output_type": "execute_result"
    }
   ],
   "source": [
    "end = datetime.now()\n",
    "start = end - timedelta(days=50)\n",
    "\n",
    "PPO_Strategy.backtest(YahooDataBacktesting, start, end, parameters={'symbol': 'AAPL', 'timestep': 'hour'})\n"
   ]
  }
 ],
 "metadata": {
  "kernelspec": {
   "display_name": ".venv",
   "language": "python",
   "name": "python3"
  },
  "language_info": {
   "codemirror_mode": {
    "name": "ipython",
    "version": 3
   },
   "file_extension": ".py",
   "mimetype": "text/x-python",
   "name": "python",
   "nbconvert_exporter": "python",
   "pygments_lexer": "ipython3",
   "version": "3.12.8"
  }
 },
 "nbformat": 4,
 "nbformat_minor": 2
}
